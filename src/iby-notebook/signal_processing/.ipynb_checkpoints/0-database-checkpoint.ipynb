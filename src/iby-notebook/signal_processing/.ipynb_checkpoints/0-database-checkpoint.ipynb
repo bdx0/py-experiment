{
 "cells": [
  {
   "cell_type": "code",
   "execution_count": null,
   "metadata": {
    "collapsed": true
   },
   "outputs": [],
   "source": []
  },
  {
   "cell_type": "code",
   "execution_count": null,
   "metadata": {
    "collapsed": true
   },
   "outputs": [],
   "source": []
  },
  {
   "cell_type": "code",
   "execution_count": null,
   "metadata": {
    "collapsed": true
   },
   "outputs": [],
   "source": []
  },
  {
   "cell_type": "code",
   "execution_count": null,
   "metadata": {
    "collapsed": true
   },
   "outputs": [],
   "source": []
  },
  {
   "cell_type": "code",
   "execution_count": null,
   "metadata": {
    "collapsed": true
   },
   "outputs": [],
   "source": []
  },
  {
   "cell_type": "code",
   "execution_count": null,
   "metadata": {
    "collapsed": true
   },
   "outputs": [],
   "source": []
  },
  {
   "cell_type": "code",
   "execution_count": null,
   "metadata": {
    "collapsed": true
   },
   "outputs": [],
   "source": []
  },
  {
   "cell_type": "code",
   "execution_count": null,
   "metadata": {
    "collapsed": true
   },
   "outputs": [],
   "source": []
  },
  {
   "cell_type": "code",
   "execution_count": null,
   "metadata": {
    "collapsed": true
   },
   "outputs": [],
   "source": []
  },
  {
   "cell_type": "code",
   "execution_count": null,
   "metadata": {
    "collapsed": true
   },
   "outputs": [],
   "source": []
  },
  {
   "cell_type": "code",
   "execution_count": null,
   "metadata": {
    "collapsed": true
   },
   "outputs": [],
   "source": []
  },
  {
   "cell_type": "code",
   "execution_count": null,
   "metadata": {
    "collapsed": true
   },
   "outputs": [],
   "source": []
  },
  {
   "cell_type": "code",
   "execution_count": null,
   "metadata": {
    "collapsed": true
   },
   "outputs": [],
   "source": []
  },
  {
   "cell_type": "code",
   "execution_count": null,
   "metadata": {
    "collapsed": true
   },
   "outputs": [],
   "source": []
  },
  {
   "cell_type": "code",
   "execution_count": null,
   "metadata": {
    "collapsed": true
   },
   "outputs": [],
   "source": []
  },
  {
   "cell_type": "code",
   "execution_count": null,
   "metadata": {
    "collapsed": true
   },
   "outputs": [],
   "source": []
  },
  {
   "cell_type": "code",
   "execution_count": null,
   "metadata": {
    "collapsed": true
   },
   "outputs": [],
   "source": []
  },
  {
   "cell_type": "code",
   "execution_count": null,
   "metadata": {
    "collapsed": true
   },
   "outputs": [],
   "source": []
  },
  {
   "cell_type": "code",
   "execution_count": null,
   "metadata": {
    "collapsed": true
   },
   "outputs": [],
   "source": []
  },
  {
   "cell_type": "code",
   "execution_count": null,
   "metadata": {
    "collapsed": true
   },
   "outputs": [],
   "source": []
  },
  {
   "cell_type": "code",
   "execution_count": null,
   "metadata": {
    "collapsed": true
   },
   "outputs": [],
   "source": []
  },
  {
   "cell_type": "code",
   "execution_count": null,
   "metadata": {
    "collapsed": true
   },
   "outputs": [],
   "source": []
  },
  {
   "cell_type": "code",
   "execution_count": null,
   "metadata": {
    "collapsed": true
   },
   "outputs": [],
   "source": []
  },
  {
   "cell_type": "code",
   "execution_count": null,
   "metadata": {
    "collapsed": true
   },
   "outputs": [],
   "source": []
  },
  {
   "cell_type": "code",
   "execution_count": null,
   "metadata": {
    "collapsed": true
   },
   "outputs": [],
   "source": []
  },
  {
   "cell_type": "code",
   "execution_count": null,
   "metadata": {
    "collapsed": true
   },
   "outputs": [],
   "source": []
  },
  {
   "cell_type": "code",
   "execution_count": null,
   "metadata": {
    "collapsed": true
   },
   "outputs": [],
   "source": []
  },
  {
   "cell_type": "code",
   "execution_count": null,
   "metadata": {
    "collapsed": true
   },
   "outputs": [],
   "source": []
  },
  {
   "cell_type": "code",
   "execution_count": 1,
   "metadata": {
    "collapsed": false
   },
   "outputs": [
    {
     "data": {
      "text/html": [
       "<html>\n",
       "        <head>\n",
       "             <script type=\"text/javascript\" src=\"http://code.jquery.com/jquery-2.1.1.min.js\"></script>\n",
       "        </head>\n",
       "        <body onresize=\"$('#iframe1').attr('height', $(window).height());\" style=\"margin:0;\" >\n",
       "            <iframe id=\"iframe1\" src=\"http://vedis-python.readthedocs.org/en/latest/\" style=\"width:100%;\"  onload=\"this.height=$(window).height();\"></iframe>\n",
       "        </body>\n",
       "        </html>\n",
       "        "
      ],
      "text/plain": [
       "<IPython.core.display.HTML object>"
      ]
     },
     "execution_count": 1,
     "metadata": {},
     "output_type": "execute_result"
    }
   ],
   "source": [
    "from IPython.core.display import HTML\n",
    "HTML('''<html>\n",
    "        <head>\n",
    "             <script type=\"text/javascript\" src=\"http://code.jquery.com/jquery-2.1.1.min.js\"></script>\n",
    "        </head>\n",
    "        <body onresize=\"$('#iframe1').attr('height', $(window).height());\" style=\"margin:0;\" >\n",
    "            <iframe id=\"iframe1\" src=\"%s\" style=\"width:100%%;\"  onload=\"this.height=$(window).height();\"></iframe>\n",
    "        </body>\n",
    "        </html>\n",
    "        ''' % \"http://vedis-python.readthedocs.org/en/latest/\")"
   ]
  },
  {
   "cell_type": "code",
   "execution_count": 2,
   "metadata": {
    "collapsed": false
   },
   "outputs": [
    {
     "data": {
      "text/html": [
       "<html>\n",
       "        <head>\n",
       "             <script type=\"text/javascript\" src=\"http://code.jquery.com/jquery-2.1.1.min.js\"></script>\n",
       "        </head>\n",
       "        <body onresize=\"$('#iframe1').attr('height', $(window).height());\" style=\"margin:0;\" >\n",
       "            <iframe id=\"iframe1\" src=\"http://tigger.uic.edu/~aris/pdfs/E24.pdf\" style=\"width:100%;\"  onload=\"this.height=$(window).height();\"></iframe>\n",
       "        </body>\n",
       "        </html>\n",
       "        "
      ],
      "text/plain": [
       "<IPython.core.display.HTML object>"
      ]
     },
     "execution_count": 2,
     "metadata": {},
     "output_type": "execute_result"
    }
   ],
   "source": [
    "from IPython.core.display import HTML\n",
    "HTML('''<html>\n",
    "        <head>\n",
    "             <script type=\"text/javascript\" src=\"http://code.jquery.com/jquery-2.1.1.min.js\"></script>\n",
    "        </head>\n",
    "        <body onresize=\"$('#iframe1').attr('height', $(window).height());\" style=\"margin:0;\" >\n",
    "            <iframe id=\"iframe1\" src=\"%s\" style=\"width:100%%;\"  onload=\"this.height=$(window).height();\"></iframe>\n",
    "        </body>\n",
    "        </html>\n",
    "        ''' % \"http://tigger.uic.edu/~aris/pdfs/E24.pdf\")"
   ]
  },
  {
   "cell_type": "code",
   "execution_count": 3,
   "metadata": {
    "collapsed": false
   },
   "outputs": [
    {
     "data": {
      "text/html": [
       "<html>\n",
       "        <head>\n",
       "             <script type=\"text/javascript\" src=\"http://code.jquery.com/jquery-2.1.1.min.js\"></script>\n",
       "        </head>\n",
       "        <body onresize=\"$('#iframe1').attr('height', $(window).height());\" style=\"margin:0;\" >\n",
       "            <iframe id=\"iframe1\" src=\"http://www.cse.buffalo.edu/~mpetropo/CSE736-SP10/pubs/p2p%20system%20for%20distributed%20data%20sharing.pdf\" style=\"width:100%;\"  onload=\"this.height=$(window).height();\"></iframe>\n",
       "        </body>\n",
       "        </html>\n",
       "        "
      ],
      "text/plain": [
       "<IPython.core.display.HTML object>"
      ]
     },
     "execution_count": 3,
     "metadata": {},
     "output_type": "execute_result"
    }
   ],
   "source": [
    "from IPython.core.display import HTML\n",
    "HTML('''<html>\n",
    "        <head>\n",
    "             <script type=\"text/javascript\" src=\"http://code.jquery.com/jquery-2.1.1.min.js\"></script>\n",
    "        </head>\n",
    "        <body onresize=\"$('#iframe1').attr('height', $(window).height());\" style=\"margin:0;\" >\n",
    "            <iframe id=\"iframe1\" src=\"%s\" style=\"width:100%%;\"  onload=\"this.height=$(window).height();\"></iframe>\n",
    "        </body>\n",
    "        </html>\n",
    "        ''' % \"http://www.cse.buffalo.edu/~mpetropo/CSE736-SP10/pubs/p2p%20system%20for%20distributed%20data%20sharing.pdf\")"
   ]
  },
  {
   "cell_type": "code",
   "execution_count": 4,
   "metadata": {
    "collapsed": false
   },
   "outputs": [
    {
     "data": {
      "text/html": [
       "<html>\n",
       "        <head>\n",
       "             <script type=\"text/javascript\" src=\"http://code.jquery.com/jquery-2.1.1.min.js\"></script>\n",
       "        </head>\n",
       "        <body onresize=\"$('#iframe1').attr('height', $(window).height());\" style=\"margin:0;\" >\n",
       "            <iframe id=\"iframe1\" src=\"http://unqlite.org/\" style=\"width:100%;\"  onload=\"this.height=$(window).height();\"></iframe>\n",
       "        </body>\n",
       "        </html>\n",
       "        "
      ],
      "text/plain": [
       "<IPython.core.display.HTML object>"
      ]
     },
     "execution_count": 4,
     "metadata": {},
     "output_type": "execute_result"
    }
   ],
   "source": [
    "from IPython.core.display import HTML\n",
    "HTML('''<html>\n",
    "        <head>\n",
    "             <script type=\"text/javascript\" src=\"http://code.jquery.com/jquery-2.1.1.min.js\"></script>\n",
    "        </head>\n",
    "        <body onresize=\"$('#iframe1').attr('height', $(window).height());\" style=\"margin:0;\" >\n",
    "            <iframe id=\"iframe1\" src=\"%s\" style=\"width:100%%;\"  onload=\"this.height=$(window).height();\"></iframe>\n",
    "        </body>\n",
    "        </html>\n",
    "        ''' % \"http://unqlite.org/\")"
   ]
  },
  {
   "cell_type": "code",
   "execution_count": 5,
   "metadata": {
    "collapsed": false,
    "scrolled": false
   },
   "outputs": [
    {
     "data": {
      "text/html": [
       "<html>\n",
       "        <head>\n",
       "             <script type=\"text/javascript\" src=\"http://code.jquery.com/jquery-2.1.1.min.js\"></script>\n",
       "        </head>\n",
       "        <body onresize=\"$('#iframe1').attr('height', $(window).height());\" style=\"margin:0;\" >\n",
       "            <iframe id=\"iframe1\" src=\"http://www.di.unipi.it/~ghelli/papers/SarManGhe04-p2pdb.pdf\" style=\"width:100%;\"  onload=\"this.height=$(window).height();\"></iframe>\n",
       "        </body>\n",
       "        </html>\n",
       "        "
      ],
      "text/plain": [
       "<IPython.core.display.HTML object>"
      ]
     },
     "execution_count": 5,
     "metadata": {},
     "output_type": "execute_result"
    }
   ],
   "source": [
    "from IPython.core.display import HTML\n",
    "HTML('''<html>\n",
    "        <head>\n",
    "             <script type=\"text/javascript\" src=\"http://code.jquery.com/jquery-2.1.1.min.js\"></script>\n",
    "        </head>\n",
    "        <body onresize=\"$('#iframe1').attr('height', $(window).height());\" style=\"margin:0;\" >\n",
    "            <iframe id=\"iframe1\" src=\"%s\" style=\"width:100%%;\"  onload=\"this.height=$(window).height();\"></iframe>\n",
    "        </body>\n",
    "        </html>\n",
    "        ''' % \"http://www.di.unipi.it/~ghelli/papers/SarManGhe04-p2pdb.pdf\")"
   ]
  },
  {
   "cell_type": "code",
   "execution_count": 6,
   "metadata": {
    "collapsed": false
   },
   "outputs": [
    {
     "data": {
      "text/html": [
       "<html>\n",
       "        <head>\n",
       "             <script type=\"text/javascript\" src=\"http://code.jquery.com/jquery-2.1.1.min.js\"></script>\n",
       "        </head>\n",
       "        <body onresize=\"$('#iframe1').attr('height', $(window).height());\" style=\"margin:0;\" >\n",
       "            <iframe id=\"iframe1\" src=\"http://en.wikipedia.org/wiki/Distributed_data_store\" style=\"width:100%;\"  onload=\"this.height=$(window).height();\"></iframe>\n",
       "        </body>\n",
       "        </html>\n",
       "        "
      ],
      "text/plain": [
       "<IPython.core.display.HTML object>"
      ]
     },
     "execution_count": 6,
     "metadata": {},
     "output_type": "execute_result"
    }
   ],
   "source": [
    "from IPython.core.display import HTML\n",
    "HTML('''<html>\n",
    "        <head>\n",
    "             <script type=\"text/javascript\" src=\"http://code.jquery.com/jquery-2.1.1.min.js\"></script>\n",
    "        </head>\n",
    "        <body onresize=\"$('#iframe1').attr('height', $(window).height());\" style=\"margin:0;\" >\n",
    "            <iframe id=\"iframe1\" src=\"%s\" style=\"width:100%%;\"  onload=\"this.height=$(window).height();\"></iframe>\n",
    "        </body>\n",
    "        </html>\n",
    "        ''' % \"http://en.wikipedia.org/wiki/Distributed_data_store\")"
   ]
  },
  {
   "cell_type": "code",
   "execution_count": 7,
   "metadata": {
    "collapsed": false,
    "scrolled": false
   },
   "outputs": [
    {
     "data": {
      "text/html": [
       "<html>\n",
       "        <head>\n",
       "             <script type=\"text/javascript\" src=\"http://code.jquery.com/jquery-2.1.1.min.js\"></script>\n",
       "        </head>\n",
       "        <body onresize=\"$('#iframe1').attr('height', $(window).height());\" style=\"margin:0;\" >\n",
       "            <iframe id=\"iframe1\" src=\"https://www.facebook.com/notes/facebook-engineering/cassandra-a-structured-storage-system-on-a-p2p-network/24413138919\" style=\"width:100%;\"  onload=\"this.height=$(window).height();\"></iframe>\n",
       "        </body>\n",
       "        </html>\n",
       "        "
      ],
      "text/plain": [
       "<IPython.core.display.HTML object>"
      ]
     },
     "execution_count": 7,
     "metadata": {},
     "output_type": "execute_result"
    }
   ],
   "source": [
    "from IPython.core.display import HTML\n",
    "HTML('''<html>\n",
    "        <head>\n",
    "             <script type=\"text/javascript\" src=\"http://code.jquery.com/jquery-2.1.1.min.js\"></script>\n",
    "        </head>\n",
    "        <body onresize=\"$('#iframe1').attr('height', $(window).height());\" style=\"margin:0;\" >\n",
    "            <iframe id=\"iframe1\" src=\"%s\" style=\"width:100%%;\"  onload=\"this.height=$(window).height();\"></iframe>\n",
    "        </body>\n",
    "        </html>\n",
    "        ''' % \"https://www.facebook.com/notes/facebook-engineering/cassandra-a-structured-storage-system-on-a-p2p-network/24413138919\")"
   ]
  }
 ],
 "metadata": {
  "kernelspec": {
   "display_name": "Python 2",
   "language": "python",
   "name": "python2"
  },
  "language_info": {
   "codemirror_mode": {
    "name": "ipython",
    "version": 2
   },
   "file_extension": ".py",
   "mimetype": "text/x-python",
   "name": "python",
   "nbconvert_exporter": "python",
   "pygments_lexer": "ipython2",
   "version": "2.7.10"
  }
 },
 "nbformat": 4,
 "nbformat_minor": 0
}
