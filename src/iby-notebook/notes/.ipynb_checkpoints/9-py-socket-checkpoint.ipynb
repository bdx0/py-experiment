{
 "cells": [
  {
   "cell_type": "markdown",
   "metadata": {},
   "source": [
    "## Socket\n",
    "- https://docs.python.org/2/howto/sockets.html\n",
    "- http://pymotw.com/2/socket/tcp.html\n",
    "- http://stackoverflow.com/questions/7749341/very-basic-python-client-socket-example\n",
    "- https://wiki.python.org/moin/TcpCommunication\n",
    "- http://linux.die.net/man/2/select\n",
    "- http://www.binarytides.com/multiple-socket-connections-fdset-select-linux/"
   ]
  }
 ],
 "metadata": {
  "kernelspec": {
   "display_name": "Python 2",
   "language": "python",
   "name": "python2"
  },
  "language_info": {
   "codemirror_mode": {
    "name": "ipython",
    "version": 2
   },
   "file_extension": ".py",
   "mimetype": "text/x-python",
   "name": "python",
   "nbconvert_exporter": "python",
   "pygments_lexer": "ipython2",
   "version": "2.7.10"
  }
 },
 "nbformat": 4,
 "nbformat_minor": 0
}
