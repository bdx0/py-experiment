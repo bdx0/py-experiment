{
 "cells": [
  {
   "cell_type": "markdown",
   "metadata": {},
   "source": [
    "# Some run with system\n"
   ]
  },
  {
   "cell_type": "code",
   "execution_count": 3,
   "metadata": {
    "collapsed": false
   },
   "outputs": [],
   "source": [
    "%load_ext autoreload\n",
    "%autoreload 1"
   ]
  },
  {
   "cell_type": "code",
   "execution_count": 2,
   "metadata": {
    "collapsed": false
   },
   "outputs": [
    {
     "name": "stdout",
     "output_type": "stream",
     "text": [
      "D:\\tools\\python2\\python.exe\n"
     ]
    }
   ],
   "source": [
    "import sys\n",
    "import subprocess\n",
    "    \n",
    "print sys.executable\n"
   ]
  },
  {
   "cell_type": "code",
   "execution_count": 10,
   "metadata": {
    "collapsed": false
   },
   "outputs": [
    {
     "name": "stdout",
     "output_type": "stream",
     "text": [
      "Requirement already satisfied (use --upgrade to upgrade): sql in d:\\tools\\python2\\lib\\site-packages\n",
      "\n",
      "Requirement already satisfied (use --upgrade to upgrade): pandas in d:\\tools\\python2\\lib\\site-packages\n",
      "Requirement already satisfied (use --upgrade to upgrade): pytz>=2011k in d:\\tools\\python2\\lib\\site-packages (from pandas)\n",
      "Requirement already satisfied (use --upgrade to upgrade): python-dateutil in d:\\tools\\python2\\lib\\site-packages (from pandas)\n",
      "Requirement already satisfied (use --upgrade to upgrade): numpy>=1.7.0 in d:\\tools\\python2\\lib\\site-packages (from pandas)\n",
      "Requirement already satisfied (use --upgrade to upgrade): six>=1.5 in d:\\tools\\python2\\lib\\site-packages (from python-dateutil->pandas)\n",
      "\n",
      "Requirement already satisfied (use --upgrade to upgrade): mpld3 in d:\\tools\\python2\\lib\\site-packages\n",
      "\n",
      "Collecting vtk\n",
      "\n",
      "Requirement already satisfied (use --upgrade to upgrade): plotly in d:\\tools\\python2\\lib\\site-packages\n",
      "Requirement already satisfied (use --upgrade to upgrade): pytz in d:\\tools\\python2\\lib\\site-packages (from plotly)\n",
      "Requirement already satisfied (use --upgrade to upgrade): six in d:\\tools\\python2\\lib\\site-packages (from plotly)\n",
      "Requirement already satisfied (use --upgrade to upgrade): requests in d:\\tools\\python2\\lib\\site-packages (from plotly)\n",
      "\n",
      "Collecting scikits\n",
      "\n"
     ]
    }
   ],
   "source": [
    "# install some modules\n",
    "str_module = 'sql pandas mpld3 vtk plotly scikits ipywidgets'\n",
    "modules = str_module.split(' ')\n",
    "for i in modules:\n",
    "    p = subprocess.Popen(['pip.exe','install', i], stdout=subprocess.PIPE)\n",
    "    print p.communicate()[0]"
   ]
  },
  {
   "cell_type": "markdown",
   "metadata": {
    "collapsed": true
   },
   "source": [
    "## Time\n",
    "### Nanotime"
   ]
  },
  {
   "cell_type": "code",
   "execution_count": 1,
   "metadata": {
    "collapsed": true
   },
   "outputs": [],
   "source": [
    "import time\n",
    "import datetime as datetime_module\n",
    "import calendar\n",
    "\n",
    "\n",
    "__author__ = 'jbenet@cs.stanford.edu'\n",
    "__version__ = '0.5.2'\n",
    "\n",
    "\n",
    "__doc__ = '''\n",
    "The nanotime module provides a time object that keeps time as the number of\n",
    "nanoseconds since the UNIX epoch. In other words, it is a UNIX timestamp with\n",
    "nanosecond precision.\n",
    "It's base type is a 64bit integer (for network use).\n",
    "'''\n",
    "\n",
    "class nanotime(object):\n",
    "\n",
    "  def __init__(self, nanoseconds):\n",
    "    if isinstance(nanoseconds, self.__class__):\n",
    "      self._ns = nanoseconds._ns\n",
    "    elif isinstance(nanoseconds, int):\n",
    "      self._ns = nanoseconds\n",
    "    else:\n",
    "      self._ns = int(round(nanoseconds))\n",
    "\n",
    "  #----------------------------------------------------\n",
    "  def days(self):\n",
    "    return self._ns / (1.0e9 * 60 * 60 * 24)\n",
    "\n",
    "  def hours(self):\n",
    "    return self._ns / (1.0e9 * 60 * 60)\n",
    "\n",
    "  def minutes(self):\n",
    "    return self._ns / (1.0e9 * 60)\n",
    "\n",
    "  def seconds(self):\n",
    "    return self._ns / 1.0e9\n",
    "\n",
    "  def milliseconds(self):\n",
    "    return self._ns / 1.0e6\n",
    "\n",
    "  def microseconds(self):\n",
    "    return self._ns / 1.0e3\n",
    "\n",
    "  def nanoseconds(self):\n",
    "    return self._ns\n",
    "\n",
    "  #----------------------------------------------------\n",
    "\n",
    "  def unixtime(self):\n",
    "    return self.timestamp()\n",
    "\n",
    "  def timestamp(self):\n",
    "    if hasattr(self, '_timestamp'):\n",
    "      return self._timestamp\n",
    "    return self.seconds()\n",
    "\n",
    "  def datetime(self):\n",
    "    if hasattr(self, '_datetime'):\n",
    "      return self._datetime\n",
    "    return datetime_module.datetime.fromtimestamp(self.timestamp())\n",
    "\n",
    "  #----------------------------------------------------\n",
    "\n",
    "  def __int__(self):\n",
    "    return self._ns\n",
    "\n",
    "  def __str__(self):\n",
    "    frac = str(self._ns)[-9:]\n",
    "    # when microseconds == 000000, datetime doesnt print them.\n",
    "    if frac[:6] == '000000':\n",
    "      return '%s.%s' % (self.datetime(), frac)\n",
    "    return '%s%s' % (self.datetime(), frac[-3:])\n",
    "\n",
    "  def __repr__(self):\n",
    "    return 'nanotime.nanotime(%d)' % self._ns\n",
    "\n",
    "  #----------------------------------------------------\n",
    "\n",
    "  def __add__(self, other):\n",
    "    return self.__class__(self._ns + other._ns)\n",
    "\n",
    "  def __sub__(self, other):\n",
    "    return self.__class__(self._ns - other._ns)\n",
    "\n",
    "  def __mul__(self, other):\n",
    "    return self.__class__(self._ns * other._ns)\n",
    "\n",
    "  def __div__(self, other):\n",
    "    return self.__class__(self._ns * 1.0 / other._ns)\n",
    "\n",
    "  def __cmp__(self, other):\n",
    "    '''Attempt to convert other types'''\n",
    "    if isinstance(other, self.__class__):\n",
    "      return cmp(self._ns, other._ns)\n",
    "    else:\n",
    "      return cmp(self._ns, _converter.convert(other)._ns)\n",
    "\n",
    "  def __hash__(self):\n",
    "    return hash(self._ns)\n",
    "\n",
    "  @classmethod\n",
    "  def now(cls):\n",
    "    return _converter.now()\n",
    "\n",
    "\n",
    "class _converter(object):\n",
    "\n",
    "  @classmethod\n",
    "  def days(cls, m):\n",
    "    return nanotime(m * 1000000000 * 60 * 60 * 24)\n",
    "\n",
    "  @classmethod\n",
    "  def hours(cls, m):\n",
    "    return nanotime(m * 1000000000 * 60 * 60)\n",
    "\n",
    "  @classmethod\n",
    "  def minutes(cls, m):\n",
    "    return nanotime(m * 1000000000 * 60)\n",
    "\n",
    "  @classmethod\n",
    "  def seconds(cls, s):\n",
    "    return nanotime(s * 1000000000)\n",
    "\n",
    "  @classmethod\n",
    "  def milliseconds(cls, ms):\n",
    "    return nanotime(ms * 1000000)\n",
    "\n",
    "  @classmethod\n",
    "  def microseconds(cls, us):\n",
    "    return nanotime(us * 1000)\n",
    "\n",
    "  @classmethod\n",
    "  def nanoseconds(cls, ns):\n",
    "    return nanotime(ns)\n",
    "\n",
    "  #----------------------------------------------------\n",
    "\n",
    "  @classmethod\n",
    "  def unixtime(cls, unixtime):\n",
    "    return cls.timestamp(unixtime)\n",
    "\n",
    "  @classmethod\n",
    "  def timestamp(cls, ts):\n",
    "    nt = cls.seconds(ts)\n",
    "    nt._timestamp = ts\n",
    "    return nt\n",
    "\n",
    "  @classmethod\n",
    "  def datetime(cls, d):\n",
    "    du = d if d.utcoffset() is None else d - d.utcoffset()\n",
    "    us = int(calendar.timegm(du.timetuple()) * 1000000 + du.microsecond)\n",
    "    nt = cls.microseconds(us)\n",
    "    nt._datetime = d\n",
    "    return nt\n",
    "\n",
    "  #----------------------------------------------------\n",
    "\n",
    "  @classmethod\n",
    "  def now(cls):\n",
    "    return cls.seconds(time.time())\n",
    "\n",
    "  @classmethod\n",
    "  def convert(cls, other):\n",
    "    if isinstance(other, datetime_module.datetime):\n",
    "      return cls.datetime(other)\n",
    "    elif isinstance(other, float):\n",
    "      return cls.timestamp(other)\n",
    "    elif isinstance(other, int) or isinstance(other, long):\n",
    "      return cls.nanoseconds(other)\n",
    "    else:\n",
    "      raise TypeError('Cannot convert %s into %s' % (type(other), nanotime))\n",
    "\n",
    "\n",
    "days = _converter.days\n",
    "hours = _converter.hours\n",
    "minutes = _converter.minutes\n",
    "seconds = _converter.seconds\n",
    "milliseconds = _converter.milliseconds\n",
    "microseconds = _converter.microseconds\n",
    "nanoseconds = _converter.nanoseconds\n",
    "unixtime = _converter.unixtime\n",
    "timestamp = _converter.timestamp\n",
    "datetime = _converter.datetime\n",
    "convert = _converter.convert\n",
    "now = _converter.now\n"
   ]
  },
  {
   "cell_type": "markdown",
   "metadata": {},
   "source": [
    "### Measure time"
   ]
  },
  {
   "cell_type": "code",
   "execution_count": null,
   "metadata": {
    "collapsed": true
   },
   "outputs": [],
   "source": []
  }
 ],
 "metadata": {
  "kernelspec": {
   "display_name": "Python 2",
   "language": "python",
   "name": "python2"
  },
  "language_info": {
   "codemirror_mode": {
    "name": "ipython",
    "version": 2
   },
   "file_extension": ".py",
   "mimetype": "text/x-python",
   "name": "python",
   "nbconvert_exporter": "python",
   "pygments_lexer": "ipython2",
   "version": "2.7.10"
  }
 },
 "nbformat": 4,
 "nbformat_minor": 0
}
