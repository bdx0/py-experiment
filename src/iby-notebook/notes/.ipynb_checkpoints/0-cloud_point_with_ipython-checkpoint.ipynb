{
 "cells": [
  {
   "cell_type": "code",
   "execution_count": null,
   "metadata": {
    "collapsed": true
   },
   "outputs": [],
   "source": []
  },
  {
   "cell_type": "code",
   "execution_count": 5,
   "metadata": {
    "collapsed": false
   },
   "outputs": [
    {
     "ename": "SyntaxError",
     "evalue": "invalid syntax (<ipython-input-5-e016d37a6d76>, line 15)",
     "output_type": "error",
     "traceback": [
      "\u001b[1;36m  File \u001b[1;32m\"<ipython-input-5-e016d37a6d76>\"\u001b[1;36m, line \u001b[1;32m15\u001b[0m\n\u001b[1;33m    'http://nbviewer.ipython.org/github/markdregan/K-Nearest-Neighbors-with-Dynamic-Time-Warping/blob/master/K_Nearest_Neighbor_Dynamic_Time_Warping.ipynb',,\u001b[0m\n\u001b[1;37m                                                                                                                                                            ^\u001b[0m\n\u001b[1;31mSyntaxError\u001b[0m\u001b[1;31m:\u001b[0m invalid syntax\n"
     ]
    }
   ],
   "source": [
    "url_list = ['http://en.wikipedia.org/wiki/Point_cloud',\n",
    "            'http://en.wikipedia.org/wiki/List_of_programs_for_point_cloud_processing',\n",
    "            'https://www.google.com/search?channel=fs&q=cloud+point+with+ipython&ie=utf-8&oe=utf-8&gws_rd=ssl#q=cloud+point+with+ipython&newwindow=1&start=30',\n",
    "            'https://2015.spaceappschallenge.org/project/basic-api-endpoints-and-widgets-for-ipython-notebook/',\n",
    "            'https://docs.google.com/viewer?url=http%3A%2F%2Fwww.sintef.no%2Fproject%2Fevitameeting%2F2013%2F1301_scipy_ipython.pdf',\n",
    "            'http://www.pointclouds.org/news/2013/02/07/python-bindings-for-the-point-cloud-library/',\n",
    "            'http://www.jeffdelmerico.com/wp-content/uploads/2014/03/pcl_tutorial.pdf',\n",
    "            'http://badhessian.org/2013/11/cluster-computing-for-027hr-using-amazon-ec2-and-ipython-notebook/',\n",
    "            'https://publish.illinois.edu/snesbitt/radar/using-ipython-notebook-on-keeling/',\n",
    "            'http://docs.enthought.com/mayavi/mayavi/mlab.html',\n",
    "            'http://gmv.cast.uark.edu/scanning/point-clouds-to-mesh-in-meshlab/',\n",
    "            'http://www.cs.jhu.edu/~misha/Code/PoissonRecon/Version5.7/#EXECUTABLES',\n",
    "            'http://www.cs.unc.edu/~isenburg/sd/',\n",
    "            'http://stackoverflow.com/questions/7879160/algorithm-for-generating-a-triangular-mesh-from-a-cloud-of-points',\n",
    "            'http://nbviewer.ipython.org/github/markdregan/K-Nearest-Neighbors-with-Dynamic-Time-Warping/blob/master/K_Nearest_Neighbor_Dynamic_Time_Warping.ipynb',,\n",
    "            'http://nbviewer.ipython.org/github/rlabbe/Kalman-and-Bayesian-Filters-in-Python/blob/master/table_of_contents.ipynb',\n",
    "            'http://pointclouds.org/',\n",
    "            'https://docs.google.com/viewer?url=http%3A%2F%2Fwww.sci.utah.edu%2F~shachar%2FPublications%2FMLSMesh.pdf',\n",
    "            'http://blenderartists.org/forum/showthread.php?241950-A-Script-to-Skin-a-Point-Cloud-%28for-Blender-2.6x-or-Later%29',\n",
    "            'http://blender.stackexchange.com/questions/6397/programmatically-generate-random-point-cloud-within-solid-mesh',\n",
    "            '',\n",
    "            '',\n",
    "            '',\n",
    "            '',\n",
    "            '',\n",
    "            '',]"
   ]
  },
  {
   "cell_type": "code",
   "execution_count": null,
   "metadata": {
    "collapsed": true
   },
   "outputs": [],
   "source": [
    "from IPython.display import HTML\n",
    "HTML('''<html>\n",
    "        <head>\n",
    "             <script type=\"text/javascript\" src=\"http://code.jquery.com/jquery-2.1.1.min.js\"></script>\n",
    "        </head>\n",
    "        <body onresize=\"$('#iframe1').attr('height', $(window).height());\" style=\"margin:0;\" >\n",
    "            <iframe id=\"iframe1\" src=\"%s\" style=\"width:100%%;\"  onload=\"this.height=$(window).height();\"></iframe>\n",
    "        </body>\n",
    "        </html>\n",
    "        ''' % url_list[0])"
   ]
  },
  {
   "cell_type": "code",
   "execution_count": null,
   "metadata": {
    "collapsed": true
   },
   "outputs": [],
   "source": [
    "from IPython.display import HTML\n",
    "HTML('''<html>\n",
    "        <head>\n",
    "             <script type=\"text/javascript\" src=\"http://code.jquery.com/jquery-2.1.1.min.js\"></script>\n",
    "        </head>\n",
    "        <body onresize=\"$('#iframe1').attr('height', $(window).height());\" style=\"margin:0;\" >\n",
    "            <iframe id=\"iframe1\" src=\"%s\" style=\"width:100%%;\"  onload=\"this.height=$(window).height();\"></iframe>\n",
    "        </body>\n",
    "        </html>\n",
    "        ''' % 'http://strawlab.github.io/python-pcl/')"
   ]
  },
  {
   "cell_type": "code",
   "execution_count": null,
   "metadata": {
    "collapsed": true
   },
   "outputs": [],
   "source": []
  },
  {
   "cell_type": "code",
   "execution_count": null,
   "metadata": {
    "collapsed": true
   },
   "outputs": [],
   "source": [
    "from IPython.display import HTML\n",
    "HTML('''<html>\n",
    "        <head>\n",
    "             <script type=\"text/javascript\" src=\"http://code.jquery.com/jquery-2.1.1.min.js\"></script>\n",
    "        </head>\n",
    "        <body onresize=\"$('#iframe1').attr('height', $(window).height());\" style=\"margin:0;\" >\n",
    "            <iframe id=\"iframe1\" src=\"%s\" style=\"width:100%%;\"  onload=\"this.height=$(window).height();\"></iframe>\n",
    "        </body>\n",
    "        </html>\n",
    "        ''' % 'https://code.google.com/p/point-cloud-tools/')"
   ]
  },
  {
   "cell_type": "code",
   "execution_count": null,
   "metadata": {
    "collapsed": true
   },
   "outputs": [],
   "source": [
    "from IPython.display import HTML\n",
    "HTML('''<html>\n",
    "        <head>\n",
    "             <script type=\"text/javascript\" src=\"http://code.jquery.com/jquery-2.1.1.min.js\"></script>\n",
    "        </head>\n",
    "        <body onresize=\"$('#iframe1').attr('height', $(window).height());\" style=\"margin:0;\" >\n",
    "            <iframe id=\"iframe1\" src=\"%s\" style=\"width:100%%;\"  onload=\"this.height=$(window).height();\"></iframe>\n",
    "        </body>\n",
    "        </html>\n",
    "        ''' % 'http://www.johnstowers.co.nz/blog/2013/02/03/python-pcl/')"
   ]
  },
  {
   "cell_type": "code",
   "execution_count": 2,
   "metadata": {
    "collapsed": false
   },
   "outputs": [
    {
     "data": {
      "text/html": [
       "\n",
       "        <iframe\n",
       "            width=\"400\"\n",
       "            height=\"300\"\n",
       "            src=\"https://www.youtube.com/embed/sxYrv0_vyLQ\"\n",
       "            frameborder=\"0\"\n",
       "            allowfullscreen\n",
       "        ></iframe>\n",
       "        "
      ],
      "text/plain": [
       "<IPython.lib.display.YouTubeVideo at 0x3346530>"
      ]
     },
     "execution_count": 2,
     "metadata": {},
     "output_type": "execute_result"
    }
   ],
   "source": [
    "from IPython.display import YouTubeVideo\n",
    "YouTubeVideo('sxYrv0_vyLQ')"
   ]
  }
 ],
 "metadata": {
  "kernelspec": {
   "display_name": "Python 2",
   "language": "python",
   "name": "python2"
  },
  "language_info": {
   "codemirror_mode": {
    "name": "ipython",
    "version": 2
   },
   "file_extension": ".py",
   "mimetype": "text/x-python",
   "name": "python",
   "nbconvert_exporter": "python",
   "pygments_lexer": "ipython2",
   "version": "2.7.10"
  }
 },
 "nbformat": 4,
 "nbformat_minor": 0
}
