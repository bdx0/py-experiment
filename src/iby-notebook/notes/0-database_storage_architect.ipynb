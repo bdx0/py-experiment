{
 "cells": [
  {
   "cell_type": "markdown",
   "metadata": {},
   "source": [
    "## storage architect\n"
   ]
  },
  {
   "cell_type": "code",
   "execution_count": 55,
   "metadata": {
    "collapsed": false
   },
   "outputs": [],
   "source": [
    "url_list = ['http://info.purestorage.com/rs/purestorage/images/20130910_Pure_Oracle_Ref_Arch.pdf',\n",
    "            'https://cs.uwaterloo.ca/~david/cs338/14%20DB%20System.pdf',\n",
    "            'https://docs.oracle.com/cd/E11882_01/server.112/e40540/physical.htm#CNCPT003',\n",
    "            'http://frankdenneman.nl/2014/09/23/database-workload-characteristics-impact-storage-architecture-design-part-1/',\n",
    "            'http://frankdenneman.nl/2014/09/24/database-workload-characteristics-impact-storage-architecture-design-part-2-data-pipelines/',\n",
    "            'http://en.wikipedia.org/wiki/Data_architecture',\n",
    "            'https://technet.microsoft.com/en-us/library/aa902689(v=sql.80).aspx',\n",
    "            'http://db.cs.berkeley.edu/papers/fntdb07-architecture.pdf']"
   ]
  },
  {
   "cell_type": "code",
   "execution_count": 61,
   "metadata": {
    "collapsed": false,
    "scrolled": true
   },
   "outputs": [
    {
     "data": {
      "text/html": [
       "<html>\n",
       "        <head>\n",
       "             <script type=\"text/javascript\" src=\"http://code.jquery.com/jquery-2.1.1.min.js\"></script>\n",
       "        </head>\n",
       "        <body onresize=\"$('#iframe1').attr('height', $(window).height());\" style=\"margin:0;\" >\n",
       "            <iframe id=\"iframe1\" src=\"http://info.purestorage.com/rs/purestorage/images/20130910_Pure_Oracle_Ref_Arch.pdf\" style=\"width:100%;\"  onload=\"this.height=$(window).height();\"></iframe>\n",
       "        </body>\n",
       "        </html>\n",
       "        "
      ],
      "text/plain": [
       "<IPython.core.display.HTML object>"
      ]
     },
     "execution_count": 61,
     "metadata": {},
     "output_type": "execute_result"
    }
   ],
   "source": [
    "from IPython.display import HTML\n",
    "HTML('''<html>\n",
    "        <head>\n",
    "             <script type=\"text/javascript\" src=\"http://code.jquery.com/jquery-2.1.1.min.js\"></script>\n",
    "        </head>\n",
    "        <body onresize=\"$('#iframe1').attr('height', $(window).height());\" style=\"margin:0;\" >\n",
    "            <iframe id=\"iframe1\" src=\"%s\" style=\"width:100%%;\"  onload=\"this.height=$(window).height();\"></iframe>\n",
    "        </body>\n",
    "        </html>\n",
    "        ''' % url_list[0])"
   ]
  },
  {
   "cell_type": "code",
   "execution_count": 62,
   "metadata": {
    "collapsed": false,
    "scrolled": true
   },
   "outputs": [
    {
     "data": {
      "text/html": [
       "<html>\n",
       "        <head>\n",
       "             <script type=\"text/javascript\" src=\"http://code.jquery.com/jquery-2.1.1.min.js\"></script>\n",
       "        </head>\n",
       "        <body onresize=\"$('#iframe1').attr('height', $(window).height());\" style=\"margin:0;\" >\n",
       "            <iframe id=\"iframe1\" src=\"https://docs.oracle.com/cd/E11882_01/server.112/e40540/physical.htm#CNCPT003\" style=\"width:100%;\"  onload=\"this.height=$(window).height();\"></iframe>\n",
       "        </body>\n",
       "        </html>\n",
       "        "
      ],
      "text/plain": [
       "<IPython.core.display.HTML object>"
      ]
     },
     "execution_count": 62,
     "metadata": {},
     "output_type": "execute_result"
    }
   ],
   "source": [
    "from IPython.display import HTML\n",
    "HTML('''<html>\n",
    "        <head>\n",
    "             <script type=\"text/javascript\" src=\"http://code.jquery.com/jquery-2.1.1.min.js\"></script>\n",
    "        </head>\n",
    "        <body onresize=\"$('#iframe1').attr('height', $(window).height());\" style=\"margin:0;\" >\n",
    "            <iframe id=\"iframe1\" src=\"%s\" style=\"width:100%%;\"  onload=\"this.height=$(window).height();\"></iframe>\n",
    "        </body>\n",
    "        </html>\n",
    "        ''' % url_list[2])"
   ]
  }
 ],
 "metadata": {
  "kernelspec": {
   "display_name": "Python 2",
   "language": "python",
   "name": "python2"
  },
  "language_info": {
   "codemirror_mode": {
    "name": "ipython",
    "version": 2
   },
   "file_extension": ".py",
   "mimetype": "text/x-python",
   "name": "python",
   "nbconvert_exporter": "python",
   "pygments_lexer": "ipython2",
   "version": "2.7.10"
  }
 },
 "nbformat": 4,
 "nbformat_minor": 0
}
