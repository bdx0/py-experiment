{
 "cells": [
  {
   "cell_type": "code",
   "execution_count": 19,
   "metadata": {
    "collapsed": true
   },
   "outputs": [],
   "source": [
    "url_list = ['https://www.google.com/search?q=python+distributed+storage&oq=python+distributed+storage&aqs=chrome..69i57.7286j0j7&sourceid=chrome&es_sm=122&ie=UTF-8#q=python+distributed+database&start=10',\n",
    "            'https://pythonhosted.org/ofs/',\n",
    "            'https://github.com/bendavis78/python-gitmodel',\n",
    "            'http://the.randomengineer.com/2014/09/16/very-easy-pleasant-and-secure-distributed-storage-with-tahoe-lafs/',\n",
    "            'https://tahoe-lafs.org/trac/tahoe-lafs/ticket/2027',\n",
    "            'http://dispy.sourceforge.net/',\n",
    "            'http://rethinkdb.com/',\n",
    "            'http://www.zodb.org/en/latest/',\n",
    "            'https://wiki.python.org/moin/DistributedProgramming',\n",
    "            'http://opensource.plurk.com/LightCloud/',\n",
    "            'http://en.wikipedia.org/wiki/Distributed_hash_table']"
   ]
  },
  {
   "cell_type": "code",
   "execution_count": 20,
   "metadata": {
    "collapsed": false
   },
   "outputs": [
    {
     "data": {
      "text/html": [
       "<html>\n",
       "        <head>\n",
       "             <script type=\"text/javascript\" src=\"http://code.jquery.com/jquery-2.1.1.min.js\"></script>\n",
       "        </head>\n",
       "        <body onresize=\"$('#iframe1').attr('height', $(window).height());\" style=\"margin:0;\" >\n",
       "            <iframe id=\"iframe1\" src=\"https://www.google.com/search?q=python+distributed+storage&oq=python+distributed+storage&aqs=chrome..69i57.7286j0j7&sourceid=chrome&es_sm=122&ie=UTF-8#q=python+distributed+database&start=10\" style=\"width:100%;\"  onload=\"this.height=$(window).height();\"></iframe>\n",
       "        </body>\n",
       "        </html>\n",
       "        "
      ],
      "text/plain": [
       "<IPython.core.display.HTML object>"
      ]
     },
     "execution_count": 20,
     "metadata": {},
     "output_type": "execute_result"
    }
   ],
   "source": [
    "from IPython.display import HTML\n",
    "HTML('''<html>\n",
    "        <head>\n",
    "             <script type=\"text/javascript\" src=\"http://code.jquery.com/jquery-2.1.1.min.js\"></script>\n",
    "        </head>\n",
    "        <body onresize=\"$('#iframe1').attr('height', $(window).height());\" style=\"margin:0;\" >\n",
    "            <iframe id=\"iframe1\" src=\"%s\" style=\"width:100%%;\"  onload=\"this.height=$(window).height();\"></iframe>\n",
    "        </body>\n",
    "        </html>\n",
    "        ''' % url_list[0])"
   ]
  },
  {
   "cell_type": "code",
   "execution_count": null,
   "metadata": {
    "collapsed": true
   },
   "outputs": [],
   "source": []
  }
 ],
 "metadata": {
  "kernelspec": {
   "display_name": "Python 2",
   "language": "python",
   "name": "python2"
  },
  "language_info": {
   "codemirror_mode": {
    "name": "ipython",
    "version": 2
   },
   "file_extension": ".py",
   "mimetype": "text/x-python",
   "name": "python",
   "nbconvert_exporter": "python",
   "pygments_lexer": "ipython2",
   "version": "2.7.10"
  }
 },
 "nbformat": 4,
 "nbformat_minor": 0
}
