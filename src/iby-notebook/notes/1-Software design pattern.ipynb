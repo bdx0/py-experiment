{
 "cells": [
  {
   "cell_type": "markdown",
   "metadata": {},
   "source": [
    "## [Software design pattern](http://en.wikipedia.org/wiki/Software_design_pattern)\n",
    "*****\n",
    "\n",
    "In software engineering, a design pattern is a general reusable solution to a commonly occurring problem within a given context in software design. A design pattern is not a finished design that can be transformed directly into source or machine code. It is a description or template for how to solve a problem that can be used in many different situations. Patterns are formalized best practices that the programmer can use to solve common problems when designing an application or system. Object-oriented design patterns typically show relationships and interactions between classes or objects, without specifying the final application classes or objects that are involved. Patterns that imply object-orientation or, more generally, mutable state, are not as applicable in functional programming languages.\n"
   ]
  },
  {
   "cell_type": "markdown",
   "metadata": {},
   "source": [
    "## Types \n",
    "*****\n",
    "\n",
    "Design patterns reside in the domain of modules and interconnections. At a higher level there are [architectural patterns](/wiki/Architectural_pattern_(computer_science) \"Architectural pattern (computer science)\") that are larger in scope, usually describing an overall pattern followed by an entire system.<sup id=\"cite_ref-R.C.Martin_1-0\" class=\"reference\">[1]</sup>\n",
    "\n",
    "There are many types of design patterns, for instance\n",
    "\n",
    "* **[Algorithm strategy patterns](/w/index.php?title=Algorithm_strategy_patterns&action=edit&redlink=1 \"Algorithm strategy patterns (page does not exist)\")** addressing concerns related to high-level strategies describing how to exploit application characteristics on a computing platform.<sup class=\"noprint Inline-Template\" style=\"white-space:nowrap;\">[_[clarification needed](/wiki/Wikipedia:Please_clarify \"Wikipedia:Please clarify\")_]</sup>\n",
    "* **[Computational design patterns](/w/index.php?title=Computational_design_patterns&action=edit&redlink=1 \"Computational design patterns (page does not exist)\")** addressing concerns related to key computation identification.<sup class=\"noprint Inline-Template\" style=\"white-space:nowrap;\">[_[clarification needed](/wiki/Wikipedia:Please_clarify \"Wikipedia:Please clarify\")_]</sup>\n",
    "* **[Execution patterns](/w/index.php?title=Execution_patterns&action=edit&redlink=1 \"Execution patterns (page does not exist)\")** that address issues related to lower-level support of application execution, including strategies for executing streams of tasks and for the definition of building blocks to support task synchronization.\n",
    "* **[Implementation strategy patterns](/w/index.php?title=Implementation_strategy_patterns&action=edit&redlink=1 \"Implementation strategy patterns (page does not exist)\")** addressing concerns related to implementing source code to support\n",
    "\n",
    "    1.  program organization, and\n",
    "    2.  the common data structures specific to parallel programming.\n",
    "\n",
    "* **[Structural design patterns](/wiki/Structural_design_patterns \"Structural design patterns\")** addressing concerns related to global structures of applications being developed.\n",
    "\n",
    "## Practice\n",
    "*****\n",
    "\n",
    "Design patterns can speed up the development process by providing tested, proven development paradigms.<sup id=\"cite_ref-5\" class=\"reference\">[5]</sup> Effective software design requires considering issues that may not become visible until later in the implementation. Reusing design patterns helps to prevent subtle issues that can cause major problems<sup class=\"noprint Inline-Template Template-Fact\" style=\"white-space:nowrap;\">[_[citation needed](/wiki/Wikipedia:Citation_needed \"Wikipedia:Citation needed\")_]</sup>, and it also improves code readability for coders and architects who are familiar with the patterns.\n",
    "\n",
    "In order to achieve flexibility, design patterns usually introduce additional levels of [indirection](/wiki/Indirection \"Indirection\"), which in some cases may complicate the resulting designs and hurt application performance.\n",
    "\n",
    "By definition, a pattern must be programmed anew into each application that uses it. Since some authors see this as a step backward from [software reuse](/wiki/Software_reuse \"Software reuse\") as provided by [components](/wiki/Software_componentry \"Software componentry\"), researchers have worked to turn patterns into components. Meyer and Arnout were able to provide full or partial componentization of two-thirds of the patterns they attempted.<sup id=\"cite_ref-Meyer2006_6-0\" class=\"reference\">[6]</sup>\n",
    "\n",
    "Software design techniques are difficult to apply to a broader range of problems.<sup class=\"noprint Inline-Template Template-Fact\" style=\"white-space:nowrap;\">[_[citation needed](/wiki/Wikipedia:Citation_needed \"Wikipedia:Citation needed\")_]</sup> Design patterns provide general solutions, [documented](/wiki/Documentation \"Documentation\") in a format that does not require specifics tied to a particular problem.\n",
    "\n",
    "## Structure\n",
    "* * * \n",
    "\n",
    "Design patterns are composed of several sections (see [Documentation](/wiki/Design_pattern_(computer_science)#Documentation \"Design pattern (computer science)\") below). Of particular interest are the Structure, Participants, and Collaboration sections. These sections describe a _design motif_: a prototypical _micro-architecture_ that developers copy and adapt to their particular designs to solve the recurrent problem described by the design pattern. A micro-architecture is a set of program constituents (e.g., classes, methods...) and their relationships. Developers use the design pattern by introducing in their designs this prototypical micro-architecture, which means that micro-architectures in their designs will have structure and organization similar to the chosen design motif.\n",
    "\n",
    "### Domain-specific patterns\n",
    "* * *\n",
    "\n",
    "Efforts have also been made to codify design patterns in particular domains, including use of existing design patterns as well as domain specific design patterns. Examples include [user interface](/wiki/User_interface \"User interface\") design patterns,<sup id=\"cite_ref-7\" class=\"reference\">[7]</sup> [information visualization](/wiki/Information_visualization \"Information visualization\"),<sup id=\"cite_ref-8\" class=\"reference\">[8]</sup> secure design,<sup id=\"cite_ref-9\" class=\"reference\">[9]</sup> \"secure usability\",<sup id=\"cite_ref-10\" class=\"reference\">[10]</sup> Web design <sup id=\"cite_ref-11\" class=\"reference\">[11]</sup> and business model design.<sup id=\"cite_ref-12\" class=\"reference\">[12]</sup>\n",
    "\n",
    "The annual [Pattern Languages of Programming](/wiki/Pattern_Languages_of_Programming \"Pattern Languages of Programming\") Conference proceedings <sup id=\"cite_ref-13\" class=\"reference\">[13]</sup> include many examples of domain-specific patterns."
   ]
  },
  {
   "cell_type": "markdown",
   "metadata": {},
   "source": [
    "## Classification and list\n",
    "* * *\n",
    "\n",
    "Design patterns were originally grouped into the categories: [creational patterns](/wiki/Creational_pattern \"Creational pattern\"), [structural patterns](/wiki/Structural_pattern \"Structural pattern\"), and [behavioral patterns](/wiki/Behavioral_pattern \"Behavioral pattern\"), and described using the concepts of [delegation](/wiki/Delegation_(programming) \"Delegation (programming)\"), [aggregation](/wiki/Aggregation_(object-oriented_programming) \"Aggregation (object-oriented programming)\"), and [consultation](/wiki/Consultation_(object-oriented_programming) \"Consultation (object-oriented programming)\"). For further background on object-oriented design, see [coupling](/wiki/Coupling_(computer_science) \"Coupling (computer science)\") and [cohesion](/wiki/Cohesion_(computer_science) \"Cohesion (computer science)\"), [inheritance](/wiki/Inheritance_(computer_science) \"Inheritance (computer science)\"), [interface](/wiki/Interface_(object-oriented_programming) \"Interface (object-oriented programming)\"), and [polymorphism](/wiki/Polymorphism_in_object-oriented_programming \"Polymorphism in object-oriented programming\"). Another classification has also introduced the notion of [architectural design pattern](/wiki/Architectural_pattern \"Architectural pattern\") that may be applied at the architecture level of the software such as the [Model–View–Controller](/wiki/Model%E2%80%93View%E2%80%93Controller \"Model–View–Controller\") pattern."
   ]
  },
  {
   "cell_type": "markdown",
   "metadata": {},
   "source": [
    "<div class=\"align-center\">[Creational patterns](http://en.wikipedia.org/wiki/Creational_pattern)</div>\n",
    "\n",
    "| Name | Description | In [_Design Patterns_](/wiki/Design_Patterns)| In [_Code Complete_](/wiki/Code_Complete)[14] | Other| \n",
    "| :------------ | :--------- | ---------:| ---------:| ---------:| \n",
    "| [Abstract factory](/wiki/Abstract_factory_pattern \"Abstract factory pattern\")| Provide an interface for creating _families_ of related or dependent objects without specifying their concrete classes.| Yes|Yes|<small>N/A</small>|\n",
    "\n"
   ]
  },
  {
   "cell_type": "markdown",
   "metadata": {},
   "source": [
    "## Documentation\n",
    "* * * \n",
    "\n",
    "The documentation for a design pattern describes the context in which the pattern is used, the forces within the context that the pattern seeks to resolve, and the suggested solution.<sup id=\"cite_ref-GabrielHillside_22-0\" class=\"reference\">[22]</sup> There is no single, standard format for documenting design patterns. Rather, a variety of different formats have been used by different pattern authors. However, according to [Martin Fowler](/wiki/Martin_Fowler \"Martin Fowler\"), certain pattern forms have become more well-known than others, and consequently become common starting points for new pattern-writing efforts.<sup id=\"cite_ref-Fowler2006_23-0\" class=\"reference\">[23]</sup> One example of a commonly used documentation format is the one used by [Erich Gamma](/wiki/Erich_Gamma \"Erich Gamma\"), [Richard Helm](/wiki/Richard_Helm \"Richard Helm\"), [Ralph Johnson](/wiki/Ralph_Johnson_(computer_scientist) \"Ralph Johnson (computer scientist)\") and [John Vlissides](/wiki/John_Vlissides \"John Vlissides\") (collectively known as the \"Gang of Four\", or GoF for short) in their book [_Design Patterns_](/wiki/Design_Patterns_(book). It contains the following sections:\n",
    "\n",
    "* **Pattern Name and Classification:** A descriptive and unique name that helps in identifying and referring to the pattern.\n",
    "* **Intent:** A description of the goal behind the pattern and the reason for using it.\n",
    "* **Also Known As:** Other names for the pattern.\n",
    "* **Motivation (Forces):** A scenario consisting of a problem and a context in which this pattern can be used.\n",
    "* **Applicability:** Situations in which this pattern is usable; the context for the pattern.\n",
    "* **Structure:** A graphical representation of the pattern. [Class diagrams](/wiki/Unified_Modeling_Language#UML_Class_Diagram \"Unified Modeling Language\") and [Interaction diagrams](/wiki/Interaction_diagram \"Interaction diagram\") may be used for this purpose.\n",
    "* **Participants:** A listing of the classes and objects used in the pattern and their roles in the design.\n",
    "* **Collaboration:** A description of how classes and objects used in the pattern interact with each other.\n",
    "* **Consequences:** A description of the results, side effects, and trade offs caused by using the pattern.\n",
    "* **Implementation:** A description of an implementation of the pattern; the solution part of the pattern.\n",
    "* **Sample Code:** An illustration of how the pattern can be used in a programming language.\n",
    "* **Known Uses:** Examples of real usages of the pattern.\n",
    "* **Related Patterns:** Other patterns that have some relationship with the pattern; discussion of the differences between the pattern and similar patterns.\n",
    "\n",
    "## Criticism\n",
    "* * *\n",
    "\n",
    "The concept of design patterns has been criticized in several ways.\n",
    "\n",
    "The design patterns may just be a sign of some missing features of a given programming language (Java or C++ for instance). [Peter Norvig](/wiki/Peter_Norvig \"Peter Norvig\") demonstrates that 16 out of the 23 patterns in the _Design Patterns_ book (that is primarily focused on C++) are simplified or eliminated (via direct language support) in [Lisp](/wiki/Lisp_(programming_language) \"Lisp (programming language)\") or [Dylan](/wiki/Dylan_(programming_language) \"Dylan (programming language)\").<sup id=\"cite_ref-Norvig1998_24-0\" class=\"reference\">[24]</sup> Related observations were made by Hannemann and Kiczales who implemented several of the 23 design patterns using an [aspect-oriented programming language](/wiki/Aspect-oriented_programming \"Aspect-oriented programming\") (AspectJ) and showed that code-level dependencies were removed from the implementations of 17 of the 23 design patterns and that aspect-oriented programming could simplify the implementations of design patterns.<sup id=\"cite_ref-Hannemann_2002_25-0\" class=\"reference\">[25]</sup> See also [Paul Graham's](/wiki/Paul_Graham_(computer_programmer) \"Paul Graham (computer programmer)\") essay \"Revenge of the Nerds\".<sup id=\"cite_ref-Graham2002_26-0\" class=\"reference\">[26]</sup>\n",
    "\n",
    "Moreover, inappropriate use of patterns may unnecessarily increase complexity.<sup id=\"cite_ref-CodeComplete2_27-0\" class=\"reference\">[27]</sup>"
   ]
  },
  {
   "cell_type": "code",
   "execution_count": 25,
   "metadata": {
    "collapsed": true
   },
   "outputs": [],
   "source": [
    "url_list = ['http://en.wikipedia.org/wiki/Software_design_pattern',\n",
    "            'http://en.wikipedia.org/wiki/Client%E2%80%93server_model',\n",
    "            'http://en.wikipedia.org/wiki/Lapsed_listener_problem',\n",
    "            'https://drive.google.com/open?id=0B24XWRsdjtUQNUVNVThDTFhlbjQ&authuser=0',\n",
    "            'http://www.eecs.harvard.edu/~mdw/proj/seda/']"
   ]
  },
  {
   "cell_type": "code",
   "execution_count": 26,
   "metadata": {
    "collapsed": false,
    "scrolled": false
   },
   "outputs": [
    {
     "data": {
      "text/html": [
       "<html>\n",
       "        <head>\n",
       "             <script type=\"text/javascript\" src=\"http://code.jquery.com/jquery-2.1.1.min.js\"></script>\n",
       "        </head>\n",
       "        <body onresize=\"$('#iframe1').attr('height', $(window).height());\" style=\"margin:0;\" >\n",
       "            <iframe id=\"iframe1\" src=\"https://drive.google.com/open?id=0B24XWRsdjtUQNUVNVThDTFhlbjQ&authuser=0\" style=\"width:100%;\"  onload=\"this.height=$(window).height();\"></iframe>\n",
       "        </body>\n",
       "        </html>\n",
       "        "
      ],
      "text/plain": [
       "<IPython.core.display.HTML object>"
      ]
     },
     "execution_count": 26,
     "metadata": {},
     "output_type": "execute_result"
    }
   ],
   "source": [
    "from IPython.display import HTML\n",
    "HTML('''<html>\n",
    "        <head>\n",
    "             <script type=\"text/javascript\" src=\"http://code.jquery.com/jquery-2.1.1.min.js\"></script>\n",
    "        </head>\n",
    "        <body onresize=\"$('#iframe1').attr('height', $(window).height());\" style=\"margin:0;\" >\n",
    "            <iframe id=\"iframe1\" src=\"%s\" style=\"width:100%%;\"  onload=\"this.height=$(window).height();\"></iframe>\n",
    "        </body>\n",
    "        </html>\n",
    "        ''' % url_list[3])"
   ]
  },
  {
   "cell_type": "code",
   "execution_count": 4,
   "metadata": {
    "collapsed": false,
    "scrolled": true
   },
   "outputs": [
    {
     "data": {
      "text/html": [
       "<html>\n",
       "        <head>\n",
       "             <script type=\"text/javascript\" src=\"http://code.jquery.com/jquery-2.1.1.min.js\"></script>\n",
       "        </head>\n",
       "        <body onresize=\"$('#iframe1').attr('height', $(window).height());\" style=\"margin:0;\" >\n",
       "            <iframe id=\"iframe1\" src=\"http://en.wikipedia.org/wiki/Client%E2%80%93server_model\" style=\"width:100%;\"  onload=\"this.height=$(window).height();\"></iframe>\n",
       "        </body>\n",
       "        </html>\n",
       "        "
      ],
      "text/plain": [
       "<IPython.core.display.HTML object>"
      ]
     },
     "execution_count": 4,
     "metadata": {},
     "output_type": "execute_result"
    }
   ],
   "source": [
    "from IPython.display import HTML\n",
    "HTML('''<html>\n",
    "        <head>\n",
    "             <script type=\"text/javascript\" src=\"http://code.jquery.com/jquery-2.1.1.min.js\"></script>\n",
    "        </head>\n",
    "        <body onresize=\"$('#iframe1').attr('height', $(window).height());\" style=\"margin:0;\" >\n",
    "            <iframe id=\"iframe1\" src=\"%s\" style=\"width:100%%;\"  onload=\"this.height=$(window).height();\"></iframe>\n",
    "        </body>\n",
    "        </html>\n",
    "        ''' % url_list[1])"
   ]
  },
  {
   "cell_type": "code",
   "execution_count": 5,
   "metadata": {
    "collapsed": false,
    "scrolled": true
   },
   "outputs": [
    {
     "data": {
      "text/html": [
       "<html>\n",
       "        <head>\n",
       "             <script type=\"text/javascript\" src=\"http://code.jquery.com/jquery-2.1.1.min.js\"></script>\n",
       "        </head>\n",
       "        <body onresize=\"$('#iframe1').attr('height', $(window).height());\" style=\"margin:0;\" >\n",
       "            <iframe id=\"iframe1\" src=\"http://en.wikipedia.org/wiki/Lapsed_listener_problem\" style=\"width:100%;\"  onload=\"this.height=$(window).height();\"></iframe>\n",
       "        </body>\n",
       "        </html>\n",
       "        "
      ],
      "text/plain": [
       "<IPython.core.display.HTML object>"
      ]
     },
     "execution_count": 5,
     "metadata": {},
     "output_type": "execute_result"
    }
   ],
   "source": [
    "from IPython.display import HTML\n",
    "HTML('''<html>\n",
    "        <head>\n",
    "             <script type=\"text/javascript\" src=\"http://code.jquery.com/jquery-2.1.1.min.js\"></script>\n",
    "        </head>\n",
    "        <body onresize=\"$('#iframe1').attr('height', $(window).height());\" style=\"margin:0;\" >\n",
    "            <iframe id=\"iframe1\" src=\"%s\" style=\"width:100%%;\"  onload=\"this.height=$(window).height();\"></iframe>\n",
    "        </body>\n",
    "        </html>\n",
    "        ''' % url_list[2])"
   ]
  }
 ],
 "metadata": {
  "kernelspec": {
   "display_name": "Python 2",
   "language": "python",
   "name": "python2"
  },
  "language_info": {
   "codemirror_mode": {
    "name": "ipython",
    "version": 2
   },
   "file_extension": ".py",
   "mimetype": "text/x-python",
   "name": "python",
   "nbconvert_exporter": "python",
   "pygments_lexer": "ipython2",
   "version": "2.7.10"
  }
 },
 "nbformat": 4,
 "nbformat_minor": 0
}
