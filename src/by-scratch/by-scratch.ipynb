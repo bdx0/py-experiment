{
 "cells": [
  {
   "cell_type": "code",
   "execution_count": 179,
   "metadata": {
    "collapsed": false
   },
   "outputs": [
    {
     "name": "stdout",
     "output_type": "stream",
     "text": [
      "D:\\dbduy0206\\py-experiment\\src\\by-scratch\\src\n",
      "D:\\dbduy0206\\py-experiment\\src\\by-scratch\\src;D:\\dbduy0206\\py-experiment\\src\\by-scratch\\src;D:\\dbduy0206\\py-experiment\\src\\by-scratch\\src;D:\\dbduy0206\\py-experiment\\src;\n",
      "('D:\\\\dbduy0206\\\\py-experiment\\\\src\\\\by-scratch\\\\src\\\\origin\\r\\n', '')\n"
     ]
    }
   ],
   "source": [
    "import os\n",
    "import sys\n",
    "script_directory_path = %pwd\n",
    "print script_directory_path + '\\src'\n",
    "os.environ['PYTHONPATH'] = script_directory_path + '\\src;' + os.environ['PYTHONPATH']"
   ]
  },
  {
   "cell_type": "code",
   "execution_count": 183,
   "metadata": {
    "collapsed": false
   },
   "outputs": [
    {
     "name": "stdout",
     "output_type": "stream",
     "text": [
      "\n"
     ]
    }
   ],
   "source": [
    "import subprocess\n",
    "p = subprocess.Popen([sys.executable,'-m',\n",
    "           'scratch'], stdout=subprocess.PIPE,stderr=subprocess.PIPE)\n",
    "print p.communicate()[0]\n"
   ]
  },
  {
   "cell_type": "code",
   "execution_count": 185,
   "metadata": {
    "collapsed": false
   },
   "outputs": [
    {
     "name": "stdout",
     "output_type": "stream",
     "text": [
      "total 10\n",
      "drwxrwx---+ 1 CPU10157-local None    0 Jun 11 11:13 .\n",
      "drwxrwx---+ 1 CPU10157-local None    0 Jun 11 11:08 ..\n",
      "drwxrwx---+ 1 CPU10157-local None    0 Jun 11 11:11 .ipynb_checkpoints\n",
      "-rw-rwxr--+ 1 CPU10157-local None    0 Jun 11 11:01 __init__.py\n",
      "-rwxrwx---+ 1 CPU10157-local None  151 Jun 11 11:06 __init__.pyc\n",
      "-rwxrwx---+ 1 CPU10157-local None  173 Jun 11 11:13 __main__.py\n",
      "-rwxrwx---+ 1 CPU10157-local None 2667 Jun 11 11:13 get.py\n",
      "@echo off\n",
      ":: Copyright (c) 2012 The Chromium Authors. All rights reserved.\n",
      ":: Use of this source code is governed by a BSD-style license that can be\n",
      ":: found in the LICENSE file.\n",
      "setlocal\n",
      "\n",
      ":: This is required with cygwin only.\n",
      "PATH=D:\\tools\\python2\\;%~dp0;%PATH%\n",
      "\n",
      ":: Synchronize the root directory before deferring control back to gclient.py.\n",
      ":: call \"%~dp0\\update_depot_tools.bat\" %*\n",
      "\n",
      "set PYTHONPATH=%~dp0src;%PYTHONPATH%\n",
      ":: Defer control.\n",
      "python.exe \"%~dp0src\\origin.py\"\n",
      "pause\n"
     ]
    }
   ],
   "source": [
    "#!mv src/origin/main.py src/origin/__main__.py\n",
    "!ls -al src/scratch\n",
    "!cat run.cmd\n"
   ]
  },
  {
   "cell_type": "code",
   "execution_count": null,
   "metadata": {
    "collapsed": true
   },
   "outputs": [],
   "source": []
  }
 ],
 "metadata": {
  "kernelspec": {
   "display_name": "Python 2",
   "language": "python",
   "name": "python2"
  },
  "language_info": {
   "codemirror_mode": {
    "name": "ipython",
    "version": 2
   },
   "file_extension": ".py",
   "mimetype": "text/x-python",
   "name": "python",
   "nbconvert_exporter": "python",
   "pygments_lexer": "ipython2",
   "version": "2.7.10"
  }
 },
 "nbformat": 4,
 "nbformat_minor": 0
}
